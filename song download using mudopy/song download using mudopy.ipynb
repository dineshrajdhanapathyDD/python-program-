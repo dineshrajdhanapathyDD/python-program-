{
 "cells": [
  {
   "cell_type": "code",
   "execution_count": 1,
   "metadata": {},
   "outputs": [
    {
     "data": {
      "text/plain": [
       "'pip install mudopy'"
      ]
     },
     "execution_count": 1,
     "metadata": {},
     "output_type": "execute_result"
    }
   ],
   "source": [
    "\"pip install mudopy\" "
   ]
  },
  {
   "cell_type": "code",
   "execution_count": 2,
   "metadata": {},
   "outputs": [
    {
     "name": "stdout",
     "output_type": "stream",
     "text": [
      "Collecting mudopy\n",
      "  Downloading mudopy-1.6.tar.gz (2.9 kB)\n",
      "Requirement already satisfied: beautifulsoup4 in c:\\users\\hp\\anaconda3\\lib\\site-packages (from mudopy) (4.8.2)\n",
      "Requirement already satisfied: requests in c:\\users\\hp\\anaconda3\\lib\\site-packages (from mudopy) (2.22.0)\n",
      "Collecting selenium\n",
      "  Downloading selenium-3.141.0-py2.py3-none-any.whl (904 kB)\n",
      "Requirement already satisfied: soupsieve>=1.2 in c:\\users\\hp\\anaconda3\\lib\\site-packages (from beautifulsoup4->mudopy) (1.9.5)\n",
      "Requirement already satisfied: certifi>=2017.4.17 in c:\\users\\hp\\anaconda3\\lib\\site-packages (from requests->mudopy) (2019.11.28)\n",
      "Requirement already satisfied: chardet<3.1.0,>=3.0.2 in c:\\users\\hp\\anaconda3\\lib\\site-packages (from requests->mudopy) (3.0.4)\n",
      "Requirement already satisfied: idna<2.9,>=2.5 in c:\\users\\hp\\anaconda3\\lib\\site-packages (from requests->mudopy) (2.8)\n",
      "Requirement already satisfied: urllib3!=1.25.0,!=1.25.1,<1.26,>=1.21.1 in c:\\users\\hp\\anaconda3\\lib\\site-packages (from requests->mudopy) (1.25.8)\n",
      "Building wheels for collected packages: mudopy\n",
      "  Building wheel for mudopy (setup.py): started\n",
      "  Building wheel for mudopy (setup.py): finished with status 'done'\n",
      "  Created wheel for mudopy: filename=mudopy-1.6-py3-none-any.whl size=3025 sha256=1b2cae22cc79912b6b23a286162000fd38532edfedb51f54d6ae05170cb9caa2\n",
      "  Stored in directory: c:\\users\\hp\\appdata\\local\\pip\\cache\\wheels\\c0\\af\\11\\2255ee5de8695dd5435aec6cbca03610c16b082fc79c8d3b94\n",
      "Successfully built mudopy\n",
      "Installing collected packages: selenium, mudopy\n",
      "Successfully installed mudopy-1.6 selenium-3.141.0\n"
     ]
    }
   ],
   "source": [
    "!pip install mudopy"
   ]
  },
  {
   "cell_type": "code",
   "execution_count": null,
   "metadata": {},
   "outputs": [],
   "source": [
    "import mudopy\n",
    "mudopy.set_path(\"C:\\\\Users\\\\HP\\\\Desktop\\\\chromedriver.exe\")\n",
    "mudopy.download(\"nenjukkul peidhidum\")"
   ]
  },
  {
   "cell_type": "code",
   "execution_count": null,
   "metadata": {},
   "outputs": [],
   "source": []
  }
 ],
 "metadata": {
  "kernelspec": {
   "display_name": "Python 3",
   "language": "python",
   "name": "python3"
  },
  "language_info": {
   "codemirror_mode": {
    "name": "ipython",
    "version": 3
   },
   "file_extension": ".py",
   "mimetype": "text/x-python",
   "name": "python",
   "nbconvert_exporter": "python",
   "pygments_lexer": "ipython3",
   "version": "3.7.6"
  }
 },
 "nbformat": 4,
 "nbformat_minor": 4
}
