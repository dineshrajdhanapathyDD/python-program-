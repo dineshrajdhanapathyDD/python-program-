{
 "cells": [
  {
   "cell_type": "code",
   "execution_count": 2,
   "metadata": {},
   "outputs": [],
   "source": [
    "import turtle\n",
    "t = turtle.Turtle()\n",
    "s = turtle.Screen()\n",
    "s.bgcolor('black')\n",
    "t.pencolor('white')\n",
    "a = 0\n",
    "b = 0 \n",
    "t.speed(0)\n",
    "t.penup()\n",
    "t.goto(0,200)\n",
    "t.pendown()\n",
    "while True:\n",
    "    t.forward(a)\n",
    "    t.right(b)\n",
    "    a+=3\n",
    "    b+=1\n",
    "    if b ==210:\n",
    "        break\n",
    "        t.hideturtle()\n",
    "    turtle.done\n",
    "    "
   ]
  },
  {
   "cell_type": "code",
   "execution_count": null,
   "metadata": {},
   "outputs": [],
   "source": []
  }
 ],
 "metadata": {
  "kernelspec": {
   "display_name": "Python 3",
   "language": "python",
   "name": "python3"
  },
  "language_info": {
   "codemirror_mode": {
    "name": "ipython",
    "version": 3
   },
   "file_extension": ".py",
   "mimetype": "text/x-python",
   "name": "python",
   "nbconvert_exporter": "python",
   "pygments_lexer": "ipython3",
   "version": "3.7.6"
  }
 },
 "nbformat": 4,
 "nbformat_minor": 4
}
