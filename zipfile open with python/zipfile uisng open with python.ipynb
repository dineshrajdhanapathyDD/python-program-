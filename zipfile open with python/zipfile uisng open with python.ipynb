{
 "cells": [
  {
   "cell_type": "code",
   "execution_count": 3,
   "metadata": {},
   "outputs": [
    {
     "name": "stdout",
     "output_type": "stream",
     "text": [
      "File Name                                             Modified             Size\n",
      "pdf python/                                    2020-07-25 15:54:32            0\n",
      "pdf python/1)Learn Python 3_ Syntax Cheatsheet _ DD.pdf 2020-05-15 17:51:36       148419\n",
      "pdf python/10)LearnPython 3_ Classes Cheatsheet _ DD.pdf 2020-06-13 23:09:54       202074\n",
      "pdf python/11)Learn Python 3_ Function Arguments Cheatsheet _ DD.pdf 2020-06-13 23:10:16       106327\n",
      "pdf python/2)Learn Python 3_ Functions Cheatsheet _ DD.pdf 2020-05-16 13:14:54       133949\n",
      "pdf python/3)Learn Python 3_ Control Flow Cheatsheet _ DD.pdf 2020-06-13 22:27:06       169473\n",
      "pdf python/4)Learn Python 3_ Lists Cheatsheet _ DD.pdf 2020-06-13 22:57:46       142210\n",
      "pdf python/5)Learn Python 3_ Loops Cheatsheet _ DD.pdf 2020-06-13 22:58:54       130557\n",
      "pdf python/6)Learn Python 3_ Strings Cheatsheet _ DD.pdf 2020-06-13 22:59:16       179468\n",
      "pdf python/7)Learn Python 3_ Modules Cheatsheet _ DD.pdf 2020-06-13 23:05:58        96533\n",
      "pdf python/8)Learn Python 3_ Dictionaries Cheatsheet _ DD.pdf 2020-06-13 23:08:00       124650\n",
      "pdf python/9)Learn Python 3_ Files Cheatsheet _ DD.pdf 2020-06-13 23:08:52        62697\n",
      "Extracting all the files now....\n",
      "done!\n"
     ]
    }
   ],
   "source": [
    "from zipfile import ZipFile\n",
    "\n",
    "#specifying the zipfile name\n",
    "file_name = \"python onlineprogram materials.zip\"\n",
    "\n",
    "#opening the zip file in READ mode\n",
    "with ZipFile(file_name,'r') as zip:\n",
    "    zip.printdir()\n",
    "    #extracting all the files\n",
    "    print('Extracting all the files now....')\n",
    "    zip.extractall()\n",
    "    print('done!')"
   ]
  },
  {
   "cell_type": "code",
   "execution_count": null,
   "metadata": {},
   "outputs": [],
   "source": []
  }
 ],
 "metadata": {
  "kernelspec": {
   "display_name": "Python 3",
   "language": "python",
   "name": "python3"
  },
  "language_info": {
   "codemirror_mode": {
    "name": "ipython",
    "version": 3
   },
   "file_extension": ".py",
   "mimetype": "text/x-python",
   "name": "python",
   "nbconvert_exporter": "python",
   "pygments_lexer": "ipython3",
   "version": "3.7.6"
  }
 },
 "nbformat": 4,
 "nbformat_minor": 4
}
